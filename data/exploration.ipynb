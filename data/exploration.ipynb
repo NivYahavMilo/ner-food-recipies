{
 "cells": [
  {
   "cell_type": "code",
   "execution_count": 8,
   "outputs": [
    {
     "data": {
      "text/plain": "                                         ingredients  \\\n0  5 ounces rum\\r\\n4 ounces triple sec\\r\\n3 ounce...   \n1  2 tubes cinnamon roll, refrigerated, with icin...   \n2  4 ripe coconuts\\r\\n1 cup evaporated milk\\r\\n1 ...   \n3  1 sheet graham cracker (broken in half)\\r\\n2 p...   \n4  1 (8 ounce) package crescent rolls\\r\\n8 slices...   \n\n                                ingredients_entities  \n0  [{\"start\": 0, \"end\": 1, \"type\": \"QUANTITY\", \"e...  \n1  [{\"start\": 0, \"end\": 1, \"type\": \"QUANTITY\", \"e...  \n2  [{\"start\": 0, \"end\": 1, \"type\": \"QUANTITY\", \"e...  \n3  [{\"start\": 0, \"end\": 1, \"type\": \"QUANTITY\", \"e...  \n4  [{\"start\": 0, \"end\": 1, \"type\": \"QUANTITY\", \"e...  ",
      "text/html": "<div>\n<style scoped>\n    .dataframe tbody tr th:only-of-type {\n        vertical-align: middle;\n    }\n\n    .dataframe tbody tr th {\n        vertical-align: top;\n    }\n\n    .dataframe thead th {\n        text-align: right;\n    }\n</style>\n<table border=\"1\" class=\"dataframe\">\n  <thead>\n    <tr style=\"text-align: right;\">\n      <th></th>\n      <th>ingredients</th>\n      <th>ingredients_entities</th>\n    </tr>\n  </thead>\n  <tbody>\n    <tr>\n      <th>0</th>\n      <td>5 ounces rum\\r\\n4 ounces triple sec\\r\\n3 ounce...</td>\n      <td>[{\"start\": 0, \"end\": 1, \"type\": \"QUANTITY\", \"e...</td>\n    </tr>\n    <tr>\n      <th>1</th>\n      <td>2 tubes cinnamon roll, refrigerated, with icin...</td>\n      <td>[{\"start\": 0, \"end\": 1, \"type\": \"QUANTITY\", \"e...</td>\n    </tr>\n    <tr>\n      <th>2</th>\n      <td>4 ripe coconuts\\r\\n1 cup evaporated milk\\r\\n1 ...</td>\n      <td>[{\"start\": 0, \"end\": 1, \"type\": \"QUANTITY\", \"e...</td>\n    </tr>\n    <tr>\n      <th>3</th>\n      <td>1 sheet graham cracker (broken in half)\\r\\n2 p...</td>\n      <td>[{\"start\": 0, \"end\": 1, \"type\": \"QUANTITY\", \"e...</td>\n    </tr>\n    <tr>\n      <th>4</th>\n      <td>1 (8 ounce) package crescent rolls\\r\\n8 slices...</td>\n      <td>[{\"start\": 0, \"end\": 1, \"type\": \"QUANTITY\", \"e...</td>\n    </tr>\n  </tbody>\n</table>\n</div>"
     },
     "execution_count": 8,
     "metadata": {},
     "output_type": "execute_result"
    }
   ],
   "source": [
    "import pandas as pd\n",
    "import config\n",
    "import os\n",
    "\n",
    "data_df = pd.read_csv(\n",
    "    os.path.join(config.ROOT_PATH,\n",
    "                 \"TASTEset.csv\"))\n",
    "data_df.head()"
   ],
   "metadata": {
    "collapsed": false,
    "pycharm": {
     "name": "#%%\n"
    }
   }
  },
  {
   "cell_type": "code",
   "execution_count": null,
   "outputs": [],
   "source": [
    "data_df = data_df.fillna(method=\"ffill\")\n",
    "data_df[\"Sentence #\"] = data_df[\"Sentence #\"].apply(lambda s: s[9:])\n",
    "data_df[\"Sentence #\"] = data_df[\"Sentence #\"].astype(\"int32\")\n",
    "data_df.head()\n"
   ],
   "metadata": {
    "collapsed": false,
    "pycharm": {
     "name": "#%%\n"
    }
   }
  }
 ],
 "metadata": {
  "kernelspec": {
   "display_name": "Python 3",
   "language": "python",
   "name": "python3"
  },
  "language_info": {
   "codemirror_mode": {
    "name": "ipython",
    "version": 2
   },
   "file_extension": ".py",
   "mimetype": "text/x-python",
   "name": "python",
   "nbconvert_exporter": "python",
   "pygments_lexer": "ipython2",
   "version": "2.7.6"
  }
 },
 "nbformat": 4,
 "nbformat_minor": 0
}